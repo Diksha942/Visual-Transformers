{
  "nbformat": 4,
  "nbformat_minor": 0,
  "metadata": {
    "colab": {
      "name": "Visual transformers(K).ipynb",
      "provenance": [],
      "collapsed_sections": []
    },
    "kernelspec": {
      "name": "python3",
      "display_name": "Python 3"
    },
    "language_info": {
      "name": "python"
    },
    "accelerator": "GPU"
  },
  "cells": [
    {
      "cell_type": "code",
      "metadata": {
        "id": "MP39MsR-kje0"
      },
      "source": [
        "import torch\n",
        "import torch.nn as nn\n",
        "import torch.optim as optim\n",
        "import torch.nn.functional as F\n",
        "import numpy as np\n",
        "import torchvision\n",
        "from torchvision import *\n",
        "from torch.utils.data import Dataset, DataLoader\n",
        "import torchvision.transforms as transforms"
      ],
      "execution_count": null,
      "outputs": []
    },
    {
      "cell_type": "code",
      "metadata": {
        "id": "1Mk6ieqTlNDN"
      },
      "source": [
        "# deciding the transformes to apply to the dataset\n",
        "transform = transforms.Compose( [transforms.ToTensor(),\n",
        "                                transforms.Normalize((0.5, 0.5, 0.5), (0.5, 0.5, 0.5))])"
      ],
      "execution_count": null,
      "outputs": []
    },
    {
      "cell_type": "code",
      "metadata": {
        "colab": {
          "base_uri": "https://localhost:8080/"
        },
        "id": "1_st8xPfl4aw",
        "outputId": "77b8b88a-cd35-4688-ba4e-da2edb7dc327"
      },
      "source": [
        "\n",
        "batch_size = 32\n",
        " \n",
        "# Downloading the training set of CIFAR10 dataset, and getting a trainloader\n",
        "trainset    = torchvision.datasets.CIFAR10(root='./data', \n",
        "                                           train=True,\n",
        "                                           download=True, \n",
        "                                           transform=transform)\n",
        "trainloader = torch.utils.data.DataLoader(trainset, \n",
        "                                          batch_size=batch_size,\n",
        "                                          shuffle=True, \n",
        "                                          num_workers=2)\n",
        " \n",
        "# Downloading the test set of CIFAR10 dataset, and getting a testloader\n",
        "testset    = torchvision.datasets.CIFAR10(root='./data', \n",
        "                                          train=False,\n",
        "                                          download=True, \n",
        "                                          transform=transform)\n",
        "testloader = torch.utils.data.DataLoader(testset, \n",
        "                                         batch_size=batch_size,\n",
        "                                         shuffle=False, \n",
        "                                         num_workers=2)\n",
        "\n",
        "# specifying the classes\n",
        "classes = ('plane', 'car', 'bird', 'cat',\n",
        "           'deer', 'dog', 'frog', 'horse', \n",
        "           'ship', 'truck')"
      ],
      "execution_count": null,
      "outputs": [
        {
          "output_type": "stream",
          "text": [
            "Files already downloaded and verified\n",
            "Files already downloaded and verified\n"
          ],
          "name": "stdout"
        }
      ]
    },
    {
      "cell_type": "code",
      "metadata": {
        "id": "yWSPlEoymBqo",
        "colab": {
          "base_uri": "https://localhost:8080/"
        },
        "outputId": "947adcd3-59c5-4062-8dd0-a44d8f5774e8"
      },
      "source": [
        "dataiter = iter(testloader)\n",
        "images, labels = dataiter.next()\n",
        "\n",
        "# image.shape = [batch, channels, height, width]\n",
        "print(images.shape)    "
      ],
      "execution_count": null,
      "outputs": [
        {
          "output_type": "stream",
          "text": [
            "torch.Size([32, 3, 32, 32])\n"
          ],
          "name": "stdout"
        }
      ]
    },
    {
      "cell_type": "code",
      "metadata": {
        "id": "WW5ZVZXNqp28"
      },
      "source": [
        "# As specified in the paper, \n",
        "# l = number of tokens\n",
        "# c = channels, \n",
        "l, c = 16, 64"
      ],
      "execution_count": null,
      "outputs": []
    },
    {
      "cell_type": "code",
      "metadata": {
        "id": "_WyNYnPeADBh"
      },
      "source": [
        "class Tokenizer(nn.Module):\n",
        "\n",
        "  def __init__(self, device, L):\n",
        "    super().__init__()\n",
        " \n",
        "    self.L = L\n",
        "\n",
        "    # Getting image features through layers of convolution\n",
        "    # convolutional Layer 1\n",
        "    self.conv1 = nn.Conv2d(in_channels=3, out_channels=16, kernel_size=3)\n",
        "    self.mxp1  = nn.MaxPool2d(kernel_size=2, stride=2)\n",
        "    \n",
        "    # convolutional Layer 2\n",
        "    self.conv2 = nn.Conv2d(in_channels=16, out_channels=64, kernel_size=1)\n",
        "    self.mxp2  = nn.MaxPool2d(kernel_size=2, stride=2)\n",
        "    \n",
        "    # convolutional Layer 3\n",
        "    self.conv3 = nn.Conv2d(in_channels=64, out_channels=128, kernel_size=3)\n",
        "    self.mxp3  = nn.MaxPool2d(kernel_size=2, stride=2)\n",
        "    \n",
        "    # convolutional Layer 4\n",
        "    self.conv4 = nn.Conv2d(in_channels=128, out_channels=256, kernel_size=1)\n",
        "    self.mxp4  = nn.MaxPool2d(kernel_size=2, stride=2)\n",
        "    \n",
        "    # convolutional Layer 5\n",
        "    self.conv5 = nn.Conv2d(in_channels=256, out_channels=512, kernel_size=3)\n",
        "    self.mxp5  = nn.MaxPool2d(kernel_size=2,  stride=2)\n",
        "    \n",
        "    # The fully connected layers to get tokens\n",
        "    self.fc1   = nn.Linear(512, L, bias=False)\n",
        "    \n",
        "  def forward(self, x):\n",
        "    \n",
        "      # x = [batch, channels, heigth, width]\n",
        "      x = self.conv1(x)\n",
        "      x = self.mxp1(x)\n",
        "      x = F.relu(x)\n",
        " \n",
        "      x = self.conv2(x)\n",
        "      # x = self.mxp2(x)\n",
        "      x = F.relu(x)\n",
        " \n",
        "      x = self.conv3(x)\n",
        "      x = self.mxp3(x)\n",
        "      x = F.relu(x) \n",
        "\n",
        "      x = self.conv4(x)\n",
        "      # x = self.mxp4(x)\n",
        "      x = F.relu(x) \n",
        "\n",
        "      x = self.conv5(x)\n",
        "      x = self.mxp5(x)\n",
        "      x = F.relu(x)                          # x = [batch, C, heigth, width]\n",
        " \n",
        "      x = x.view(x.shape[0], x.shape[1], -1) # x = [batch, C, heigth*width]\n",
        "      \n",
        "      x1 = x.permute(0,2,1)                  # x1 = [batch, H*W, C]\n",
        "      x2 = x.permute(0,2,1)                  # x2 = [batch, H*W, C]\n",
        " \n",
        "      x1 = self.fc1(x1)                      # x1 = [batch, H*W, L]\n",
        "      x1 = x1.permute(0,2,1)                 # x1 = [batch, L, H*W]\n",
        " \n",
        "      x1 = F.softmax(x1, dim=-1)\n",
        "      t = torch.matmul(x1,x2)                # t = [batch, L, C]\n",
        "\n",
        "      return t, x"
      ],
      "execution_count": null,
      "outputs": []
    },
    {
      "cell_type": "code",
      "metadata": {
        "id": "-Rw5G0rQFGCh"
      },
      "source": [
        "# As specified in the paper, \n",
        "# l = number of tokens,\n",
        "# c = channels\n",
        "class Recurrent_tokenizer(nn.Module):\n",
        "\n",
        "  def __init__(self, device, l, c):\n",
        "    \n",
        "    super().__init__()\n",
        "    self.device = device\n",
        "\n",
        "    # get weights from previous token\n",
        "    self.token2wt = nn.Linear(c, c, bias=False)\n",
        "    \n",
        "  def forward(self, x, token):\n",
        "    \n",
        "    # token = [batch, L, C]\n",
        "    # X = [batch, C, H*W]\n",
        "\n",
        "    Wr = self.token2wt(token) #Wr = [batch, L, C]\n",
        "    Wr = Wr.permute(0,2,1)    #Wr = [batch, C, L]\n",
        "    \n",
        "    x = x.permute(0,2,1)      #x = [batch, H*W, C]\n",
        "\n",
        "    a = torch.matmul(x,Wr)    #a = [batch, H*W, C] x [batch, C, L] = [batch, H*W, L]\n",
        "    a = a.permute(0,2,1)      #a = [batch, L, H*W]\n",
        "    a = F.softmax(a, dim=-1)\n",
        "\n",
        "    t = torch.matmul(a,x)     #t = [batch, L, H*W] x  [batch, H*W, C] = [batch, L, C]\n",
        "\n",
        "    return t"
      ],
      "execution_count": null,
      "outputs": []
    },
    {
      "cell_type": "code",
      "metadata": {
        "id": "BnrJ-KemFGAg"
      },
      "source": [
        "class Transformer(nn.Module):\n",
        "\n",
        "  def __init__(self, l, c):\n",
        "\n",
        "    super().__init__()\n",
        "    \n",
        "    self.token2Q = nn.Linear(c,c,bias=False)\n",
        "    self.token2K = nn.Linear(c,c,bias=False)\n",
        "\n",
        "    self.F1 = nn.Conv1d(in_channels=c,out_channels=c,kernel_size=1)\n",
        "    self.F2 = nn.Conv1d(in_channels=c,out_channels=c,kernel_size=1)\n",
        " \n",
        "  def forward(self, token):\n",
        "\n",
        "    # getting the key and query weights\n",
        "    Tk = self.token2K(token)\n",
        "    Tq = self.token2Q(token)\n",
        "    Tq = Tq.permute(0,2,1)\n",
        "\n",
        "    a = torch.matmul(Tk,Tq)\n",
        "    a = F.softmax(a,dim=-1)\n",
        "    a = torch.matmul(a,token)\n",
        "\n",
        "    T = token + a          #T = [batch, l, c]\n",
        "    T = T.permute(0,2,1)\n",
        "\n",
        "    T1 = self.F1(T)\n",
        "    T1 = F.relu(T1)\n",
        "    T1 = self.F2(T1)\n",
        "    T1 = T1 + T            #T1 = [batch, l, c]\n",
        "    T1 = T1.permute(0,2,1) #T1 = [batch, c, l]\n",
        "\n",
        "    return T1"
      ],
      "execution_count": null,
      "outputs": []
    },
    {
      "cell_type": "code",
      "metadata": {
        "id": "HNJvXMbQFF9q"
      },
      "source": [
        "class Classifier(nn.Module):\n",
        "\n",
        "  def __init__(self, l, c):\n",
        "\n",
        "    super().__init__()\n",
        "    self.c = c\n",
        "    self.l = l\n",
        "    \n",
        "    self.avgPool = nn.AvgPool1d(kernel_size=3,stride=1)\n",
        "    self.fc1     = nn.Linear((l-2)*c,512)\n",
        "    self.fc2     = nn.Linear(512,10)\n",
        " \n",
        "  def forward(self,x):  \n",
        "    \n",
        "    # x = [batch, l, c]\n",
        "\n",
        "    x = x.permute(0,2,1)             # x = [batch, c, l]    \n",
        "    x = self.avgPool(x)\n",
        "\n",
        "    x = x.permute(0,2,1)\n",
        "    x = x.reshape(x.shape[0],-1)     # x = [batch, c*l]\n",
        "\n",
        "    x = self.fc1(x)\n",
        "    x = F.relu(x)\n",
        "    x = self.fc2(x)\n",
        "   \n",
        "    return x                         "
      ],
      "execution_count": null,
      "outputs": []
    },
    {
      "cell_type": "code",
      "metadata": {
        "id": "dk31xXrTLFei"
      },
      "source": [
        "# Get the 1st token\n",
        "tokenizer = Tokenizer(device='cuda', L=16)\n",
        "\n",
        "# pass the consecutive tokens to recurrent tokenizer\n",
        "recurrent_tokenizer1 = Recurrent_tokenizer(device='cuda', l=16, c=512)\n",
        "recurrent_tokenizer2 = Recurrent_tokenizer(device='cuda', l=16, c=512)\n",
        "recurrent_tokenizer3 = Recurrent_tokenizer(device='cuda', l=16, c=512)\n",
        "recurrent_tokenizer4 = Recurrent_tokenizer(device='cuda', l=16, c=512)\n",
        "\n",
        "# Transformer for the final token\n",
        "transformer = Transformer(l=16, c=512)\n",
        "\n",
        "# Final classification\n",
        "classifier = Classifier(l=16, c=512)"
      ],
      "execution_count": null,
      "outputs": []
    },
    {
      "cell_type": "code",
      "metadata": {
        "id": "XkjRodTjFF6x"
      },
      "source": [
        "class DaMixer(nn.Module):\n",
        "\n",
        "  def __init__(self,tokenizer, recurrent_tokenizer1, \n",
        "               recurrent_tokenizer2, recurrent_tokenizer3, \n",
        "               recurrent_tokenizer4, transformer, classifier):\n",
        "    \n",
        "    super().__init__()\n",
        "    self.tokenizer = tokenizer\n",
        "\n",
        "    self.recurrent_tokenizer1 = recurrent_tokenizer1\n",
        "    self.recurrent_tokenizer2 = recurrent_tokenizer2\n",
        "    self.recurrent_tokenizer3 = recurrent_tokenizer3\n",
        "    self.recurrent_tokenizer4 = recurrent_tokenizer4\n",
        "\n",
        "    self.transformer = transformer\n",
        "    \n",
        "    self.classifier = classifier\n",
        " \n",
        "  def forward(self, x):\n",
        "\n",
        "    t, features = self.tokenizer(x)\n",
        "\n",
        "    t = self.recurrent_tokenizer1(features,t)\n",
        "    t = self.recurrent_tokenizer2(features,t)\n",
        "    t = self.recurrent_tokenizer3(features,t)\n",
        "    t = self.recurrent_tokenizer4(features,t)\n",
        "\n",
        "    t = self.transformer(t)\n",
        "    op = self.classifier(t)\n",
        "\n",
        "    return op"
      ],
      "execution_count": null,
      "outputs": []
    },
    {
      "cell_type": "code",
      "metadata": {
        "id": "Qfh8qAVmFF4N",
        "colab": {
          "base_uri": "https://localhost:8080/"
        },
        "outputId": "8e1f0d31-23ce-45b3-c5ec-59f985640d56"
      },
      "source": [
        "model = DaMixer(tokenizer,recurrent_tokenizer1, recurrent_tokenizer2, \n",
        "                recurrent_tokenizer3, recurrent_tokenizer4, transformer, \n",
        "                classifier).to('cuda')\n",
        "print(model)"
      ],
      "execution_count": null,
      "outputs": [
        {
          "output_type": "stream",
          "text": [
            "DaMixer(\n",
            "  (tokenizer): Tokenizer(\n",
            "    (conv1): Conv2d(3, 16, kernel_size=(3, 3), stride=(1, 1))\n",
            "    (mxp1): MaxPool2d(kernel_size=2, stride=2, padding=0, dilation=1, ceil_mode=False)\n",
            "    (conv2): Conv2d(16, 64, kernel_size=(1, 1), stride=(1, 1))\n",
            "    (mxp2): MaxPool2d(kernel_size=2, stride=2, padding=0, dilation=1, ceil_mode=False)\n",
            "    (conv3): Conv2d(64, 128, kernel_size=(3, 3), stride=(1, 1))\n",
            "    (mxp3): MaxPool2d(kernel_size=2, stride=2, padding=0, dilation=1, ceil_mode=False)\n",
            "    (conv4): Conv2d(128, 256, kernel_size=(1, 1), stride=(1, 1))\n",
            "    (mxp4): MaxPool2d(kernel_size=2, stride=2, padding=0, dilation=1, ceil_mode=False)\n",
            "    (conv5): Conv2d(256, 512, kernel_size=(3, 3), stride=(1, 1))\n",
            "    (mxp5): MaxPool2d(kernel_size=2, stride=2, padding=0, dilation=1, ceil_mode=False)\n",
            "    (fc1): Linear(in_features=512, out_features=16, bias=False)\n",
            "  )\n",
            "  (recurrent_tokenizer1): Recurrent_tokenizer(\n",
            "    (token2wt): Linear(in_features=512, out_features=512, bias=False)\n",
            "  )\n",
            "  (recurrent_tokenizer2): Recurrent_tokenizer(\n",
            "    (token2wt): Linear(in_features=512, out_features=512, bias=False)\n",
            "  )\n",
            "  (recurrent_tokenizer3): Recurrent_tokenizer(\n",
            "    (token2wt): Linear(in_features=512, out_features=512, bias=False)\n",
            "  )\n",
            "  (recurrent_tokenizer4): Recurrent_tokenizer(\n",
            "    (token2wt): Linear(in_features=512, out_features=512, bias=False)\n",
            "  )\n",
            "  (transformer): Transformer(\n",
            "    (token2Q): Linear(in_features=512, out_features=512, bias=False)\n",
            "    (token2K): Linear(in_features=512, out_features=512, bias=False)\n",
            "    (F1): Conv1d(512, 512, kernel_size=(1,), stride=(1,))\n",
            "    (F2): Conv1d(512, 512, kernel_size=(1,), stride=(1,))\n",
            "  )\n",
            "  (classifier): Classifier(\n",
            "    (avgPool): AvgPool1d(kernel_size=(3,), stride=(1,), padding=(0,))\n",
            "    (fc1): Linear(in_features=7168, out_features=512, bias=True)\n",
            "    (fc2): Linear(in_features=512, out_features=10, bias=True)\n",
            "  )\n",
            ")\n"
          ],
          "name": "stdout"
        }
      ]
    },
    {
      "cell_type": "code",
      "metadata": {
        "colab": {
          "base_uri": "https://localhost:8080/"
        },
        "id": "sPVb2V29Kj1D",
        "outputId": "fa8f810c-81f4-4900-bccb-0a3ea5740bcb"
      },
      "source": [
        "# Get number of parameters in tabular form\n",
        "from prettytable import PrettyTable\n",
        "\n",
        "def count_parameters(model):\n",
        "\n",
        "    table = PrettyTable([\"Modules\", \"Parameters\"])\n",
        "    total_params = 0\n",
        "\n",
        "    for name, parameter in model.named_parameters():\n",
        "        if not parameter.requires_grad: continue\n",
        "        param = parameter.numel()\n",
        "        table.add_row([name, param])\n",
        "        total_params+=param\n",
        "      \n",
        "    print(table)\n",
        "    print(f\"Total Trainable Params: {total_params}\")\n",
        "    \n",
        "    return total_params\n",
        "    \n",
        "count_parameters(model)"
      ],
      "execution_count": null,
      "outputs": [
        {
          "output_type": "stream",
          "text": [
            "+--------------------------------------+------------+\n",
            "|               Modules                | Parameters |\n",
            "+--------------------------------------+------------+\n",
            "|        tokenizer.conv1.weight        |    432     |\n",
            "|         tokenizer.conv1.bias         |     16     |\n",
            "|        tokenizer.conv2.weight        |    1024    |\n",
            "|         tokenizer.conv2.bias         |     64     |\n",
            "|        tokenizer.conv3.weight        |   73728    |\n",
            "|         tokenizer.conv3.bias         |    128     |\n",
            "|        tokenizer.conv4.weight        |   32768    |\n",
            "|         tokenizer.conv4.bias         |    256     |\n",
            "|        tokenizer.conv5.weight        |  1179648   |\n",
            "|         tokenizer.conv5.bias         |    512     |\n",
            "|         tokenizer.fc1.weight         |    8192    |\n",
            "| recurrent_tokenizer1.token2wt.weight |   262144   |\n",
            "| recurrent_tokenizer2.token2wt.weight |   262144   |\n",
            "| recurrent_tokenizer3.token2wt.weight |   262144   |\n",
            "| recurrent_tokenizer4.token2wt.weight |   262144   |\n",
            "|      transformer.token2Q.weight      |   262144   |\n",
            "|      transformer.token2K.weight      |   262144   |\n",
            "|        transformer.F1.weight         |   262144   |\n",
            "|         transformer.F1.bias          |    512     |\n",
            "|        transformer.F2.weight         |   262144   |\n",
            "|         transformer.F2.bias          |    512     |\n",
            "|        classifier.fc1.weight         |  3670016   |\n",
            "|         classifier.fc1.bias          |    512     |\n",
            "|        classifier.fc2.weight         |    5120    |\n",
            "|         classifier.fc2.bias          |     10     |\n",
            "+--------------------------------------+------------+\n",
            "Total Trainable Params: 7070602\n"
          ],
          "name": "stdout"
        },
        {
          "output_type": "execute_result",
          "data": {
            "text/plain": [
              "7070602"
            ]
          },
          "metadata": {
            "tags": []
          },
          "execution_count": 110
        }
      ]
    },
    {
      "cell_type": "code",
      "metadata": {
        "id": "DIWh9RVGFF1v"
      },
      "source": [
        "\n",
        "import matplotlib.pyplot as plt\n",
        "\n",
        "# Train the network for classification\n",
        "def train(train_iterator, optimizer, criterion, model, EPOCHS):\n",
        "\n",
        "  model.train()\n",
        "  epoch_loss = []\n",
        "  x_list = []\n",
        "\n",
        "  for i in range(EPOCHS):\n",
        "\n",
        "    acc=0\n",
        "    for n,data in enumerate(train_iterator):\n",
        "\n",
        "      images, labels = data                # images = [batch, c, height, width]\n",
        "                                           # labels = [batch]\n",
        "      images = images.to('cuda')\n",
        "      labels = labels.to('cuda')\n",
        "\n",
        "      optimizer.zero_grad()\n",
        "      output = model(images)               # output = [batch, classes]\n",
        "\n",
        "      loss = criterion(output,labels)\n",
        "      loss.backward()\n",
        "      optimizer.step()\n",
        "\n",
        "      acc+=loss.item()\n",
        "      \n",
        "    epoch_loss.append(acc/(n+1))\n",
        "    x_list.append(i+1)\n",
        "\n",
        "    if i%10==0:\n",
        "      print(\"Epoch : {} | Loss : {}\".format(i, epoch_loss[-1]))\n",
        "\n",
        "  plt.plot(x_list, epoch_loss)\n",
        "  plt.show()\n",
        "\n",
        "  return epoch_loss"
      ],
      "execution_count": null,
      "outputs": []
    },
    {
      "cell_type": "code",
      "metadata": {
        "id": "6rGUsnhZFFy2"
      },
      "source": [
        "optimizer = optim.Adam(model.parameters(),lr=0.0001)\n",
        "criterion = nn.CrossEntropyLoss()"
      ],
      "execution_count": null,
      "outputs": []
    },
    {
      "cell_type": "code",
      "metadata": {
        "id": "RWxGxVfEFFwW",
        "colab": {
          "base_uri": "https://localhost:8080/",
          "height": 1000
        },
        "outputId": "d1259d3c-7da9-48ba-ed11-5fb69f34d877"
      },
      "source": [
        "loss = train(trainloader, optimizer, criterion, model, 200)"
      ],
      "execution_count": null,
      "outputs": [
        {
          "output_type": "stream",
          "text": [
            "Epoch : 0 | Loss : 1.6937650166790377\n",
            "Epoch : 10 | Loss : 0.4257059591516652\n",
            "Epoch : 20 | Loss : 0.07439357585301093\n",
            "Epoch : 30 | Loss : 0.04514172839273649\n",
            "Epoch : 40 | Loss : 0.02666192329607645\n",
            "Epoch : 50 | Loss : 0.025301044028955305\n",
            "Epoch : 60 | Loss : 0.023128898299315553\n",
            "Epoch : 70 | Loss : 0.017903911687267734\n",
            "Epoch : 80 | Loss : 0.01541719901894232\n",
            "Epoch : 90 | Loss : 0.013450883309585843\n"
          ],
          "name": "stdout"
        },
        {
          "output_type": "stream",
          "text": [
            "Exception ignored in: <function _MultiProcessingDataLoaderIter.__del__ at 0x7fc9759b0b90>\n",
            "Traceback (most recent call last):\n",
            "  File \"/usr/local/lib/python3.7/dist-packages/torch/utils/data/dataloader.py\", line 1328, in __del__\n",
            "    self._shutdown_workers()\n",
            "  File \"/usr/local/lib/python3.7/dist-packages/torch/utils/data/dataloader.py\", line 1320, in _shutdown_workers\n",
            "    if w.is_alive():\n",
            "  File \"/usr/lib/python3.7/multiprocessing/process.py\", line 151, in is_alive\n",
            "    assert self._parent_pid == os.getpid(), 'can only test a child process'\n",
            "AssertionError: can only test a child process\n",
            "Exception ignored in: <function _MultiProcessingDataLoaderIter.__del__ at 0x7fc9759b0b90>\n",
            "Traceback (most recent call last):\n",
            "  File \"/usr/local/lib/python3.7/dist-packages/torch/utils/data/dataloader.py\", line 1328, in __del__\n",
            "    self._shutdown_workers()\n",
            "  File \"/usr/local/lib/python3.7/dist-packages/torch/utils/data/dataloader.py\", line 1320, in _shutdown_workers\n",
            "    if w.is_alive():\n",
            "  File \"/usr/lib/python3.7/multiprocessing/process.py\", line 151, in is_alive\n",
            "    assert self._parent_pid == os.getpid(), 'can only test a child process'\n",
            "AssertionError: can only test a child process\n",
            "Exception ignored in: <function _MultiProcessingDataLoaderIter.__del__ at 0x7fc9759b0b90>\n",
            "Traceback (most recent call last):\n",
            "  File \"/usr/local/lib/python3.7/dist-packages/torch/utils/data/dataloader.py\", line 1328, in __del__\n",
            "    self._shutdown_workers()\n",
            "  File \"/usr/local/lib/python3.7/dist-packages/torch/utils/data/dataloader.py\", line 1320, in _shutdown_workers\n",
            "    if w.is_alive():\n",
            "  File \"/usr/lib/python3.7/multiprocessing/process.py\", line 151, in is_alive\n",
            "    assert self._parent_pid == os.getpid(), 'can only test a child process'\n",
            "AssertionError: can only test a child process\n",
            "Exception ignored in: <function _MultiProcessingDataLoaderIter.__del__ at 0x7fc9759b0b90>\n",
            "Traceback (most recent call last):\n",
            "  File \"/usr/local/lib/python3.7/dist-packages/torch/utils/data/dataloader.py\", line 1328, in __del__\n",
            "    self._shutdown_workers()\n",
            "  File \"/usr/local/lib/python3.7/dist-packages/torch/utils/data/dataloader.py\", line 1320, in _shutdown_workers\n",
            "    if w.is_alive():\n",
            "  File \"/usr/lib/python3.7/multiprocessing/process.py\", line 151, in is_alive\n",
            "    assert self._parent_pid == os.getpid(), 'can only test a child process'\n",
            "AssertionError: can only test a child process\n",
            "Exception ignored in: <function _MultiProcessingDataLoaderIter.__del__ at 0x7fc9759b0b90>\n",
            "Traceback (most recent call last):\n",
            "  File \"/usr/local/lib/python3.7/dist-packages/torch/utils/data/dataloader.py\", line 1328, in __del__\n",
            "    self._shutdown_workers()\n",
            "  File \"/usr/local/lib/python3.7/dist-packages/torch/utils/data/dataloader.py\", line 1320, in _shutdown_workers\n",
            "    if w.is_alive():\n",
            "  File \"/usr/lib/python3.7/multiprocessing/process.py\", line 151, in is_alive\n",
            "    assert self._parent_pid == os.getpid(), 'can only test a child process'\n",
            "AssertionError: can only test a child process\n",
            "Exception ignored in: <function _MultiProcessingDataLoaderIter.__del__ at 0x7fc9759b0b90>\n",
            "Traceback (most recent call last):\n",
            "  File \"/usr/local/lib/python3.7/dist-packages/torch/utils/data/dataloader.py\", line 1328, in __del__\n",
            "    self._shutdown_workers()\n",
            "  File \"/usr/local/lib/python3.7/dist-packages/torch/utils/data/dataloader.py\", line 1320, in _shutdown_workers\n",
            "    if w.is_alive():\n",
            "  File \"/usr/lib/python3.7/multiprocessing/process.py\", line 151, in is_alive\n",
            "    assert self._parent_pid == os.getpid(), 'can only test a child process'\n",
            "AssertionError: can only test a child process\n",
            "Exception ignored in: <function _MultiProcessingDataLoaderIter.__del__ at 0x7fc9759b0b90>\n",
            "Traceback (most recent call last):\n",
            "  File \"/usr/local/lib/python3.7/dist-packages/torch/utils/data/dataloader.py\", line 1328, in __del__\n",
            "    self._shutdown_workers()\n",
            "  File \"/usr/local/lib/python3.7/dist-packages/torch/utils/data/dataloader.py\", line 1320, in _shutdown_workers\n",
            "    if w.is_alive():\n",
            "  File \"/usr/lib/python3.7/multiprocessing/process.py\", line 151, in is_alive\n",
            "    assert self._parent_pid == os.getpid(), 'can only test a child process'\n",
            "AssertionError: can only test a child process\n",
            "Exception ignored in: <function _MultiProcessingDataLoaderIter.__del__ at 0x7fc9759b0b90>\n",
            "Traceback (most recent call last):\n",
            "  File \"/usr/local/lib/python3.7/dist-packages/torch/utils/data/dataloader.py\", line 1328, in __del__\n",
            "    self._shutdown_workers()\n",
            "  File \"/usr/local/lib/python3.7/dist-packages/torch/utils/data/dataloader.py\", line 1320, in _shutdown_workers\n",
            "    if w.is_alive():\n",
            "  File \"/usr/lib/python3.7/multiprocessing/process.py\", line 151, in is_alive\n",
            "    assert self._parent_pid == os.getpid(), 'can only test a child process'\n",
            "AssertionError: can only test a child process\n",
            "Exception ignored in: <function _MultiProcessingDataLoaderIter.__del__ at 0x7fc9759b0b90>\n",
            "Traceback (most recent call last):\n",
            "  File \"/usr/local/lib/python3.7/dist-packages/torch/utils/data/dataloader.py\", line 1328, in __del__\n",
            "    self._shutdown_workers()\n",
            "  File \"/usr/local/lib/python3.7/dist-packages/torch/utils/data/dataloader.py\", line 1320, in _shutdown_workers\n",
            "    if w.is_alive():\n",
            "  File \"/usr/lib/python3.7/multiprocessing/process.py\", line 151, in is_alive\n",
            "    assert self._parent_pid == os.getpid(), 'can only test a child process'\n",
            "AssertionError: can only test a child process\n",
            "Exception ignored in: <function _MultiProcessingDataLoaderIter.__del__ at 0x7fc9759b0b90>\n",
            "Traceback (most recent call last):\n",
            "  File \"/usr/local/lib/python3.7/dist-packages/torch/utils/data/dataloader.py\", line 1328, in __del__\n",
            "    self._shutdown_workers()\n",
            "  File \"/usr/local/lib/python3.7/dist-packages/torch/utils/data/dataloader.py\", line 1320, in _shutdown_workers\n",
            "    if w.is_alive():\n",
            "  File \"/usr/lib/python3.7/multiprocessing/process.py\", line 151, in is_alive\n",
            "    assert self._parent_pid == os.getpid(), 'can only test a child process'\n",
            "AssertionError: can only test a child process\n",
            "Exception ignored in: <function _MultiProcessingDataLoaderIter.__del__ at 0x7fc9759b0b90>\n",
            "Traceback (most recent call last):\n",
            "  File \"/usr/local/lib/python3.7/dist-packages/torch/utils/data/dataloader.py\", line 1328, in __del__\n",
            "    self._shutdown_workers()\n",
            "  File \"/usr/local/lib/python3.7/dist-packages/torch/utils/data/dataloader.py\", line 1320, in _shutdown_workers\n",
            "    if w.is_alive():\n",
            "  File \"/usr/lib/python3.7/multiprocessing/process.py\", line 151, in is_alive\n",
            "    assert self._parent_pid == os.getpid(), 'can only test a child process'\n",
            "AssertionError: can only test a child process\n",
            "Exception ignored in: <function _MultiProcessingDataLoaderIter.__del__ at 0x7fc9759b0b90>\n",
            "Traceback (most recent call last):\n",
            "  File \"/usr/local/lib/python3.7/dist-packages/torch/utils/data/dataloader.py\", line 1328, in __del__\n",
            "    self._shutdown_workers()\n",
            "  File \"/usr/local/lib/python3.7/dist-packages/torch/utils/data/dataloader.py\", line 1320, in _shutdown_workers\n",
            "    if w.is_alive():\n",
            "  File \"/usr/lib/python3.7/multiprocessing/process.py\", line 151, in is_alive\n",
            "    assert self._parent_pid == os.getpid(), 'can only test a child process'\n",
            "AssertionError: can only test a child process\n",
            "Exception ignored in: <function _MultiProcessingDataLoaderIter.__del__ at 0x7fc9759b0b90>\n",
            "Traceback (most recent call last):\n",
            "  File \"/usr/local/lib/python3.7/dist-packages/torch/utils/data/dataloader.py\", line 1328, in __del__\n",
            "    self._shutdown_workers()\n",
            "  File \"/usr/local/lib/python3.7/dist-packages/torch/utils/data/dataloader.py\", line 1320, in _shutdown_workers\n",
            "    if w.is_alive():\n",
            "  File \"/usr/lib/python3.7/multiprocessing/process.py\", line 151, in is_alive\n",
            "    assert self._parent_pid == os.getpid(), 'can only test a child process'\n",
            "AssertionError: can only test a child process\n"
          ],
          "name": "stderr"
        },
        {
          "output_type": "stream",
          "text": [
            "Epoch : 100 | Loss : 0.013086103334825117\n",
            "Epoch : 110 | Loss : 0.012371785295847582\n",
            "Epoch : 120 | Loss : 0.009608134788765469\n",
            "Epoch : 130 | Loss : 0.010478851536691813\n",
            "Epoch : 140 | Loss : 0.009485929846671794\n",
            "Epoch : 150 | Loss : 0.00916315113315443\n",
            "Epoch : 160 | Loss : 0.01060256454297172\n",
            "Epoch : 170 | Loss : 0.006988117932003493\n",
            "Epoch : 180 | Loss : 0.009289736553557398\n",
            "Epoch : 190 | Loss : 0.00776273763094086\n"
          ],
          "name": "stdout"
        },
        {
          "output_type": "display_data",
          "data": {
            "image/png": "[encoded data removed]",
            "text/plain": [
              "<Figure size 432x288 with 1 Axes>"
            ]
          },
          "metadata": {
            "tags": [],
            "needs_background": "light"
          }
        }
      ]
    },
    {
      "cell_type": "code",
      "metadata": {
        "colab": {
          "base_uri": "https://localhost:8080/"
        },
        "id": "_UVmdDKpG1Sw",
        "outputId": "6a04801c-c2ce-47d8-837b-34a8c100eb20"
      },
      "source": [
        "correct = 0\n",
        "total = 0\n",
        "with torch.no_grad():\n",
        "    for data in testloader:\n",
        "        images, labels = data\n",
        "        images = images.to('cuda')\n",
        "        labels = labels.to('cuda')\n",
        "        # calculate outputs by running images through the network\n",
        "        outputs = model(images)\n",
        "        # the class with the highest energy is what we choose as prediction\n",
        "        # print(images.shape)\n",
        "        _, predicted = torch.max(outputs.data, 1)\n",
        "        total += labels.size(0)\n",
        "        correct += (predicted == labels).sum().item()\n",
        " \n",
        "print('Accuracy of the network on the 10000 test images: %d %%' % (\n",
        "    100 * correct / total))"
      ],
      "execution_count": null,
      "outputs": [
        {
          "output_type": "stream",
          "text": [
            "Accuracy of the network on the 10000 test images: 74 %\n"
          ],
          "name": "stdout"
        }
      ]
    }
  ]
}